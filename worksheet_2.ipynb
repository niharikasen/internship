{
 "cells": [
  {
   "cell_type": "code",
   "execution_count": 1,
   "id": "2ed287ba",
   "metadata": {},
   "outputs": [],
   "source": [
    "#find the factorial of a number"
   ]
  },
  {
   "cell_type": "code",
   "execution_count": 3,
   "id": "3ad98960",
   "metadata": {},
   "outputs": [
    {
     "name": "stdout",
     "output_type": "stream",
     "text": [
      "Enter Number:4\n",
      "Factorial Number is: 1\n",
      "Factorial Number is: 2\n",
      "Factorial Number is: 6\n",
      "Factorial Number is: 24\n"
     ]
    }
   ],
   "source": [
    "num=int(input(\"Enter Number:\"))\n",
    "fact=1\n",
    "for i in range (1, num+1):\n",
    "    fact=fact*i\n",
    "    print(\"Factorial Number is:\",fact)\n",
    "    "
   ]
  },
  {
   "cell_type": "code",
   "execution_count": 4,
   "id": "46c4212a",
   "metadata": {},
   "outputs": [],
   "source": [
    "#number is prime or composite"
   ]
  },
  {
   "cell_type": "code",
   "execution_count": 32,
   "id": "8af695ea",
   "metadata": {},
   "outputs": [
    {
     "name": "stdout",
     "output_type": "stream",
     "text": [
      "Enter Number:0\n",
      "0 is a neither prime number Nor composite number\n"
     ]
    }
   ],
   "source": [
    "num=int(input(\"Enter Number:\"))\n",
    "if num > 1 :\n",
    "    for i in range(2, num):\n",
    "        if (num % i)== 0:\n",
    "            print (num,\"the number is not prime number\")\n",
    "            break\n",
    "    else:\n",
    "        print(num,\"is a prime number\") \n",
    "        \n",
    "elif num==0 or 1:\n",
    "    \n",
    "     print (num,\"is a neither prime number Nor composite number\")\n",
    "else:\n",
    "    print(num,\"is not prime it is a composite number\")\n",
    "            \n",
    "            "
   ]
  },
  {
   "cell_type": "markdown",
   "id": "74d7cf9b",
   "metadata": {},
   "source": []
  },
  {
   "cell_type": "code",
   "execution_count": null,
   "id": "954af91e",
   "metadata": {},
   "outputs": [],
   "source": [
    "#String is palindrome or not "
   ]
  },
  {
   "cell_type": "code",
   "execution_count": 35,
   "id": "6f802a0b",
   "metadata": {},
   "outputs": [
    {
     "name": "stdout",
     "output_type": "stream",
     "text": [
      "Enter a string:naman\n",
      "namanis a palidrome\n"
     ]
    }
   ],
   "source": [
    "n=input (\"Enter a string:\")\n",
    "if n==n[::-1]:\n",
    "    print(n+ \"is a palidrome\")\n",
    "else:\n",
    "    print(n+ \"is not a palidrome\")\n",
    "    "
   ]
  },
  {
   "cell_type": "code",
   "execution_count": 36,
   "id": "9eff7a08",
   "metadata": {},
   "outputs": [],
   "source": [
    "#frequency of each of the character present in given string"
   ]
  },
  {
   "cell_type": "code",
   "execution_count": 44,
   "id": "266730d4",
   "metadata": {},
   "outputs": [
    {
     "name": "stdout",
     "output_type": "stream",
     "text": [
      "Enter string:niharika\n",
      "Enter  character to check frequency:h\n",
      "h occurs 1\n"
     ]
    }
   ],
   "source": [
    "string=input(\"Enter string:\")\n",
    "c=input (\"Enter  character to check frequency:\")\n",
    "count=0\n",
    "for i in string:\n",
    "    if i == c:\n",
    "        count+=1\n",
    "        print(c,\"occurs\",count)\n"
   ]
  },
  {
   "cell_type": "code",
   "execution_count": null,
   "id": "1e69fe20",
   "metadata": {},
   "outputs": [],
   "source": []
  }
 ],
 "metadata": {
  "kernelspec": {
   "display_name": "Python 3 (ipykernel)",
   "language": "python",
   "name": "python3"
  },
  "language_info": {
   "codemirror_mode": {
    "name": "ipython",
    "version": 3
   },
   "file_extension": ".py",
   "mimetype": "text/x-python",
   "name": "python",
   "nbconvert_exporter": "python",
   "pygments_lexer": "ipython3",
   "version": "3.10.9"
  }
 },
 "nbformat": 4,
 "nbformat_minor": 5
}
